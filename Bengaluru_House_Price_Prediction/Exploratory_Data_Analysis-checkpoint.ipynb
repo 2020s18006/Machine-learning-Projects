{
 "cells": [
  {
   "cell_type": "code",
   "execution_count": 1,
   "id": "858d05ce-11fc-4a72-94f5-98ea6964b3f9",
   "metadata": {},
   "outputs": [],
   "source": [
    "import pandas as pd\n",
    "import numpy as np\n",
    "from matplotlib import pyplot as plt\n",
    "import matplotlib\n",
    "import seaborn as sns\n",
    "matplotlib.rcParams[\"figure.figsize\"] = (20,10)"
   ]
  },
  {
   "cell_type": "code",
   "execution_count": 2,
   "id": "9db4e79f-0e66-4b68-9299-e6e3416d0c0b",
   "metadata": {},
   "outputs": [
    {
     "data": {
      "text/html": [
       "<div>\n",
       "<style scoped>\n",
       "    .dataframe tbody tr th:only-of-type {\n",
       "        vertical-align: middle;\n",
       "    }\n",
       "\n",
       "    .dataframe tbody tr th {\n",
       "        vertical-align: top;\n",
       "    }\n",
       "\n",
       "    .dataframe thead th {\n",
       "        text-align: right;\n",
       "    }\n",
       "</style>\n",
       "<table border=\"1\" class=\"dataframe\">\n",
       "  <thead>\n",
       "    <tr style=\"text-align: right;\">\n",
       "      <th></th>\n",
       "      <th>area_type</th>\n",
       "      <th>availability</th>\n",
       "      <th>location</th>\n",
       "      <th>size</th>\n",
       "      <th>society</th>\n",
       "      <th>total_sqft</th>\n",
       "      <th>bath</th>\n",
       "      <th>balcony</th>\n",
       "      <th>price</th>\n",
       "    </tr>\n",
       "  </thead>\n",
       "  <tbody>\n",
       "    <tr>\n",
       "      <th>0</th>\n",
       "      <td>Super built-up  Area</td>\n",
       "      <td>19-Dec</td>\n",
       "      <td>Electronic City Phase II</td>\n",
       "      <td>2 BHK</td>\n",
       "      <td>Coomee</td>\n",
       "      <td>1056</td>\n",
       "      <td>2.0</td>\n",
       "      <td>1.0</td>\n",
       "      <td>39.07</td>\n",
       "    </tr>\n",
       "    <tr>\n",
       "      <th>1</th>\n",
       "      <td>Plot  Area</td>\n",
       "      <td>Ready To Move</td>\n",
       "      <td>Chikka Tirupathi</td>\n",
       "      <td>4 Bedroom</td>\n",
       "      <td>Theanmp</td>\n",
       "      <td>2600</td>\n",
       "      <td>5.0</td>\n",
       "      <td>3.0</td>\n",
       "      <td>120.00</td>\n",
       "    </tr>\n",
       "    <tr>\n",
       "      <th>2</th>\n",
       "      <td>Built-up  Area</td>\n",
       "      <td>Ready To Move</td>\n",
       "      <td>Uttarahalli</td>\n",
       "      <td>3 BHK</td>\n",
       "      <td>NaN</td>\n",
       "      <td>1440</td>\n",
       "      <td>2.0</td>\n",
       "      <td>3.0</td>\n",
       "      <td>62.00</td>\n",
       "    </tr>\n",
       "    <tr>\n",
       "      <th>3</th>\n",
       "      <td>Super built-up  Area</td>\n",
       "      <td>Ready To Move</td>\n",
       "      <td>Lingadheeranahalli</td>\n",
       "      <td>3 BHK</td>\n",
       "      <td>Soiewre</td>\n",
       "      <td>1521</td>\n",
       "      <td>3.0</td>\n",
       "      <td>1.0</td>\n",
       "      <td>95.00</td>\n",
       "    </tr>\n",
       "    <tr>\n",
       "      <th>4</th>\n",
       "      <td>Super built-up  Area</td>\n",
       "      <td>Ready To Move</td>\n",
       "      <td>Kothanur</td>\n",
       "      <td>2 BHK</td>\n",
       "      <td>NaN</td>\n",
       "      <td>1200</td>\n",
       "      <td>2.0</td>\n",
       "      <td>1.0</td>\n",
       "      <td>51.00</td>\n",
       "    </tr>\n",
       "  </tbody>\n",
       "</table>\n",
       "</div>"
      ],
      "text/plain": [
       "              area_type   availability                  location       size  \\\n",
       "0  Super built-up  Area         19-Dec  Electronic City Phase II      2 BHK   \n",
       "1            Plot  Area  Ready To Move          Chikka Tirupathi  4 Bedroom   \n",
       "2        Built-up  Area  Ready To Move               Uttarahalli      3 BHK   \n",
       "3  Super built-up  Area  Ready To Move        Lingadheeranahalli      3 BHK   \n",
       "4  Super built-up  Area  Ready To Move                  Kothanur      2 BHK   \n",
       "\n",
       "   society total_sqft  bath  balcony   price  \n",
       "0  Coomee        1056   2.0      1.0   39.07  \n",
       "1  Theanmp       2600   5.0      3.0  120.00  \n",
       "2      NaN       1440   2.0      3.0   62.00  \n",
       "3  Soiewre       1521   3.0      1.0   95.00  \n",
       "4      NaN       1200   2.0      1.0   51.00  "
      ]
     },
     "execution_count": 2,
     "metadata": {},
     "output_type": "execute_result"
    }
   ],
   "source": [
    "df1 = pd.read_csv(\"Bengaluru_House_Data.csv\")\n",
    "df1.head()"
   ]
  },
  {
   "cell_type": "code",
   "execution_count": 3,
   "id": "87a49fd4-b9ad-4e29-ae58-9d13d83d734e",
   "metadata": {},
   "outputs": [
    {
     "data": {
      "text/plain": [
       "(13320, 9)"
      ]
     },
     "execution_count": 3,
     "metadata": {},
     "output_type": "execute_result"
    }
   ],
   "source": [
    "df1.shape"
   ]
  },
  {
   "cell_type": "code",
   "execution_count": 4,
   "id": "5a74c3e8-8f4b-48c3-9a21-862cd5b1e9b2",
   "metadata": {},
   "outputs": [
    {
     "name": "stdout",
     "output_type": "stream",
     "text": [
      "['Coomee ' 'Theanmp' nan ... 'SJovest' 'ThhtsV ' 'RSntsAp']\n",
      "Number of unique categories: 2688\n"
     ]
    }
   ],
   "source": [
    "# Assuming 'df1' is your DataFrame\n",
    "unique_values = df1['society'].unique()\n",
    "print(unique_values)\n",
    "\n",
    "# Assuming 'df1' is your DataFrame\n",
    "num_unique_categories = df1['society'].nunique()\n",
    "print(\"Number of unique categories:\", num_unique_categories)"
   ]
  },
  {
   "cell_type": "code",
   "execution_count": 5,
   "id": "4fb86e58-4995-4974-89d3-2553b5f9c20c",
   "metadata": {},
   "outputs": [
    {
     "name": "stdout",
     "output_type": "stream",
     "text": [
      "Original DataFrame:\n",
      "                  area_type   availability                  location  \\\n",
      "0      Super built-up  Area         19-Dec  Electronic City Phase II   \n",
      "1                Plot  Area  Ready To Move          Chikka Tirupathi   \n",
      "2            Built-up  Area  Ready To Move               Uttarahalli   \n",
      "3      Super built-up  Area  Ready To Move        Lingadheeranahalli   \n",
      "4      Super built-up  Area  Ready To Move                  Kothanur   \n",
      "...                     ...            ...                       ...   \n",
      "13315        Built-up  Area  Ready To Move                Whitefield   \n",
      "13316  Super built-up  Area  Ready To Move             Richards Town   \n",
      "13317        Built-up  Area  Ready To Move     Raja Rajeshwari Nagar   \n",
      "13318  Super built-up  Area         18-Jun           Padmanabhanagar   \n",
      "13319  Super built-up  Area  Ready To Move              Doddathoguru   \n",
      "\n",
      "            size total_sqft  bath  balcony   price  \n",
      "0          2 BHK       1056   2.0      1.0   39.07  \n",
      "1      4 Bedroom       2600   5.0      3.0  120.00  \n",
      "2          3 BHK       1440   2.0      3.0   62.00  \n",
      "3          3 BHK       1521   3.0      1.0   95.00  \n",
      "4          2 BHK       1200   2.0      1.0   51.00  \n",
      "...          ...        ...   ...      ...     ...  \n",
      "13315  5 Bedroom       3453   4.0      0.0  231.00  \n",
      "13316      4 BHK       3600   5.0      NaN  400.00  \n",
      "13317      2 BHK       1141   2.0      1.0   60.00  \n",
      "13318      4 BHK       4689   4.0      1.0  488.00  \n",
      "13319      1 BHK        550   1.0      1.0   17.00  \n",
      "\n",
      "[13320 rows x 8 columns]\n",
      "\n",
      "DataFrame after removing column 'B':\n",
      "                  area_type   availability                  location  \\\n",
      "0      Super built-up  Area         19-Dec  Electronic City Phase II   \n",
      "1                Plot  Area  Ready To Move          Chikka Tirupathi   \n",
      "2            Built-up  Area  Ready To Move               Uttarahalli   \n",
      "3      Super built-up  Area  Ready To Move        Lingadheeranahalli   \n",
      "4      Super built-up  Area  Ready To Move                  Kothanur   \n",
      "...                     ...            ...                       ...   \n",
      "13315        Built-up  Area  Ready To Move                Whitefield   \n",
      "13316  Super built-up  Area  Ready To Move             Richards Town   \n",
      "13317        Built-up  Area  Ready To Move     Raja Rajeshwari Nagar   \n",
      "13318  Super built-up  Area         18-Jun           Padmanabhanagar   \n",
      "13319  Super built-up  Area  Ready To Move              Doddathoguru   \n",
      "\n",
      "            size total_sqft  bath  balcony   price  \n",
      "0          2 BHK       1056   2.0      1.0   39.07  \n",
      "1      4 Bedroom       2600   5.0      3.0  120.00  \n",
      "2          3 BHK       1440   2.0      3.0   62.00  \n",
      "3          3 BHK       1521   3.0      1.0   95.00  \n",
      "4          2 BHK       1200   2.0      1.0   51.00  \n",
      "...          ...        ...   ...      ...     ...  \n",
      "13315  5 Bedroom       3453   4.0      0.0  231.00  \n",
      "13316      4 BHK       3600   5.0      NaN  400.00  \n",
      "13317      2 BHK       1141   2.0      1.0   60.00  \n",
      "13318      4 BHK       4689   4.0      1.0  488.00  \n",
      "13319      1 BHK        550   1.0      1.0   17.00  \n",
      "\n",
      "[13320 rows x 8 columns]\n"
     ]
    }
   ],
   "source": [
    "# Remove column 'society' from the DataFrame\n",
    "df1 = df1.drop(columns=['society'])\n",
    "\n",
    "print(\"Original DataFrame:\")\n",
    "print(df1)\n",
    "print(\"\\nDataFrame after removing column 'B':\")\n",
    "print(df1)"
   ]
  },
  {
   "cell_type": "code",
   "execution_count": 6,
   "id": "0a069b86-ba51-4863-9b77-73c0700a1d2f",
   "metadata": {},
   "outputs": [
    {
     "name": "stdout",
     "output_type": "stream",
     "text": [
      "Original DataFrame:\n",
      "                  area_type                  location       size total_sqft  \\\n",
      "0      Super built-up  Area  Electronic City Phase II      2 BHK       1056   \n",
      "1                Plot  Area          Chikka Tirupathi  4 Bedroom       2600   \n",
      "2            Built-up  Area               Uttarahalli      3 BHK       1440   \n",
      "3      Super built-up  Area        Lingadheeranahalli      3 BHK       1521   \n",
      "4      Super built-up  Area                  Kothanur      2 BHK       1200   \n",
      "...                     ...                       ...        ...        ...   \n",
      "13315        Built-up  Area                Whitefield  5 Bedroom       3453   \n",
      "13316  Super built-up  Area             Richards Town      4 BHK       3600   \n",
      "13317        Built-up  Area     Raja Rajeshwari Nagar      2 BHK       1141   \n",
      "13318  Super built-up  Area           Padmanabhanagar      4 BHK       4689   \n",
      "13319  Super built-up  Area              Doddathoguru      1 BHK        550   \n",
      "\n",
      "       bath  balcony   price  \n",
      "0       2.0      1.0   39.07  \n",
      "1       5.0      3.0  120.00  \n",
      "2       2.0      3.0   62.00  \n",
      "3       3.0      1.0   95.00  \n",
      "4       2.0      1.0   51.00  \n",
      "...     ...      ...     ...  \n",
      "13315   4.0      0.0  231.00  \n",
      "13316   5.0      NaN  400.00  \n",
      "13317   2.0      1.0   60.00  \n",
      "13318   4.0      1.0  488.00  \n",
      "13319   1.0      1.0   17.00  \n",
      "\n",
      "[13320 rows x 7 columns]\n",
      "\n",
      "DataFrame after removing column 'B':\n",
      "                  area_type                  location       size total_sqft  \\\n",
      "0      Super built-up  Area  Electronic City Phase II      2 BHK       1056   \n",
      "1                Plot  Area          Chikka Tirupathi  4 Bedroom       2600   \n",
      "2            Built-up  Area               Uttarahalli      3 BHK       1440   \n",
      "3      Super built-up  Area        Lingadheeranahalli      3 BHK       1521   \n",
      "4      Super built-up  Area                  Kothanur      2 BHK       1200   \n",
      "...                     ...                       ...        ...        ...   \n",
      "13315        Built-up  Area                Whitefield  5 Bedroom       3453   \n",
      "13316  Super built-up  Area             Richards Town      4 BHK       3600   \n",
      "13317        Built-up  Area     Raja Rajeshwari Nagar      2 BHK       1141   \n",
      "13318  Super built-up  Area           Padmanabhanagar      4 BHK       4689   \n",
      "13319  Super built-up  Area              Doddathoguru      1 BHK        550   \n",
      "\n",
      "       bath  balcony   price  \n",
      "0       2.0      1.0   39.07  \n",
      "1       5.0      3.0  120.00  \n",
      "2       2.0      3.0   62.00  \n",
      "3       3.0      1.0   95.00  \n",
      "4       2.0      1.0   51.00  \n",
      "...     ...      ...     ...  \n",
      "13315   4.0      0.0  231.00  \n",
      "13316   5.0      NaN  400.00  \n",
      "13317   2.0      1.0   60.00  \n",
      "13318   4.0      1.0  488.00  \n",
      "13319   1.0      1.0   17.00  \n",
      "\n",
      "[13320 rows x 7 columns]\n"
     ]
    }
   ],
   "source": [
    "# Remove column 'availability' from the DataFrame\n",
    "df1 = df1.drop(columns=['availability'])\n",
    "\n",
    "print(\"Original DataFrame:\")\n",
    "print(df1)\n",
    "print(\"\\nDataFrame after removing column 'B':\")\n",
    "print(df1)"
   ]
  },
  {
   "cell_type": "code",
   "execution_count": 7,
   "id": "fb16006c-5ad9-456a-bdc9-579b73049381",
   "metadata": {},
   "outputs": [
    {
     "data": {
      "text/plain": [
       "(13320, 7)"
      ]
     },
     "execution_count": 7,
     "metadata": {},
     "output_type": "execute_result"
    }
   ],
   "source": [
    "df1.shape"
   ]
  },
  {
   "cell_type": "code",
   "execution_count": 8,
   "id": "ef31ac38-7fc0-4c03-8ee0-21efd48133e8",
   "metadata": {},
   "outputs": [
    {
     "name": "stdout",
     "output_type": "stream",
     "text": [
      "Percentage of missing values: 0.7496782496782497\n"
     ]
    }
   ],
   "source": [
    "# Count the total number of missing values\n",
    "total_missing_values = df1.isnull().sum().sum()\n",
    "\n",
    "# Calculate the total number of values\n",
    "total_values = df1.size\n",
    "\n",
    "# Calculate the percentage of missing values\n",
    "percentage_missing_values = (total_missing_values / total_values) * 100\n",
    "\n",
    "print(\"Percentage of missing values:\", percentage_missing_values)"
   ]
  },
  {
   "cell_type": "code",
   "execution_count": 9,
   "id": "67323fab-998e-4576-8add-6fb4f7dfc5c4",
   "metadata": {},
   "outputs": [
    {
     "name": "stdout",
     "output_type": "stream",
     "text": [
      "Original DataFrame:\n",
      "                  area_type                  location       size total_sqft  \\\n",
      "0      Super built-up  Area  Electronic City Phase II      2 BHK       1056   \n",
      "1                Plot  Area          Chikka Tirupathi  4 Bedroom       2600   \n",
      "2            Built-up  Area               Uttarahalli      3 BHK       1440   \n",
      "3      Super built-up  Area        Lingadheeranahalli      3 BHK       1521   \n",
      "4      Super built-up  Area                  Kothanur      2 BHK       1200   \n",
      "...                     ...                       ...        ...        ...   \n",
      "13314  Super built-up  Area         Green Glen Layout      3 BHK       1715   \n",
      "13315        Built-up  Area                Whitefield  5 Bedroom       3453   \n",
      "13317        Built-up  Area     Raja Rajeshwari Nagar      2 BHK       1141   \n",
      "13318  Super built-up  Area           Padmanabhanagar      4 BHK       4689   \n",
      "13319  Super built-up  Area              Doddathoguru      1 BHK        550   \n",
      "\n",
      "       bath  balcony   price  \n",
      "0       2.0      1.0   39.07  \n",
      "1       5.0      3.0  120.00  \n",
      "2       2.0      3.0   62.00  \n",
      "3       3.0      1.0   95.00  \n",
      "4       2.0      1.0   51.00  \n",
      "...     ...      ...     ...  \n",
      "13314   3.0      3.0  112.00  \n",
      "13315   4.0      0.0  231.00  \n",
      "13317   2.0      1.0   60.00  \n",
      "13318   4.0      1.0  488.00  \n",
      "13319   1.0      1.0   17.00  \n",
      "\n",
      "[12710 rows x 7 columns]\n",
      "\n",
      "DataFrame after removing missing values:\n",
      "                  area_type                  location       size total_sqft  \\\n",
      "0      Super built-up  Area  Electronic City Phase II      2 BHK       1056   \n",
      "1                Plot  Area          Chikka Tirupathi  4 Bedroom       2600   \n",
      "2            Built-up  Area               Uttarahalli      3 BHK       1440   \n",
      "3      Super built-up  Area        Lingadheeranahalli      3 BHK       1521   \n",
      "4      Super built-up  Area                  Kothanur      2 BHK       1200   \n",
      "...                     ...                       ...        ...        ...   \n",
      "13314  Super built-up  Area         Green Glen Layout      3 BHK       1715   \n",
      "13315        Built-up  Area                Whitefield  5 Bedroom       3453   \n",
      "13317        Built-up  Area     Raja Rajeshwari Nagar      2 BHK       1141   \n",
      "13318  Super built-up  Area           Padmanabhanagar      4 BHK       4689   \n",
      "13319  Super built-up  Area              Doddathoguru      1 BHK        550   \n",
      "\n",
      "       bath  balcony   price  \n",
      "0       2.0      1.0   39.07  \n",
      "1       5.0      3.0  120.00  \n",
      "2       2.0      3.0   62.00  \n",
      "3       3.0      1.0   95.00  \n",
      "4       2.0      1.0   51.00  \n",
      "...     ...      ...     ...  \n",
      "13314   3.0      3.0  112.00  \n",
      "13315   4.0      0.0  231.00  \n",
      "13317   2.0      1.0   60.00  \n",
      "13318   4.0      1.0  488.00  \n",
      "13319   1.0      1.0   17.00  \n",
      "\n",
      "[12710 rows x 7 columns]\n"
     ]
    }
   ],
   "source": [
    "# Remove rows with any missing values\n",
    "df1 = df1.dropna()\n",
    "\n",
    "print(\"Original DataFrame:\")\n",
    "print(df1)\n",
    "print(\"\\nDataFrame after removing missing values:\")\n",
    "print(df1)"
   ]
  },
  {
   "cell_type": "code",
   "execution_count": 10,
   "id": "3eba654e-c884-4480-b01c-742236501314",
   "metadata": {},
   "outputs": [
    {
     "data": {
      "text/plain": [
       "array(['2 BHK', '4 Bedroom', '3 BHK', '3 Bedroom', '1 BHK', '1 RK',\n",
       "       '4 BHK', '1 Bedroom', '2 Bedroom', '6 Bedroom', '8 Bedroom',\n",
       "       '7 Bedroom', '5 BHK', '7 BHK', '6 BHK', '5 Bedroom', '11 BHK',\n",
       "       '9 BHK', '9 Bedroom', '27 BHK', '11 Bedroom', '43 Bedroom',\n",
       "       '14 BHK', '8 BHK', '12 Bedroom', '10 Bedroom', '13 BHK'],\n",
       "      dtype=object)"
      ]
     },
     "execution_count": 10,
     "metadata": {},
     "output_type": "execute_result"
    }
   ],
   "source": [
    "df1['size'].unique()"
   ]
  },
  {
   "cell_type": "code",
   "execution_count": 11,
   "id": "cc204c00-8690-4dfb-ab1a-4842e64e3d8d",
   "metadata": {},
   "outputs": [],
   "source": [
    "df1['BHK'] = df1['size'].apply(lambda x: int(x.split(' ')[0]))"
   ]
  },
  {
   "cell_type": "code",
   "execution_count": 12,
   "id": "0a468ce2-2faa-40ba-a1b2-02fe6f8d4ddc",
   "metadata": {},
   "outputs": [
    {
     "data": {
      "text/html": [
       "<div>\n",
       "<style scoped>\n",
       "    .dataframe tbody tr th:only-of-type {\n",
       "        vertical-align: middle;\n",
       "    }\n",
       "\n",
       "    .dataframe tbody tr th {\n",
       "        vertical-align: top;\n",
       "    }\n",
       "\n",
       "    .dataframe thead th {\n",
       "        text-align: right;\n",
       "    }\n",
       "</style>\n",
       "<table border=\"1\" class=\"dataframe\">\n",
       "  <thead>\n",
       "    <tr style=\"text-align: right;\">\n",
       "      <th></th>\n",
       "      <th>area_type</th>\n",
       "      <th>location</th>\n",
       "      <th>size</th>\n",
       "      <th>total_sqft</th>\n",
       "      <th>bath</th>\n",
       "      <th>balcony</th>\n",
       "      <th>price</th>\n",
       "      <th>BHK</th>\n",
       "    </tr>\n",
       "  </thead>\n",
       "  <tbody>\n",
       "    <tr>\n",
       "      <th>0</th>\n",
       "      <td>Super built-up  Area</td>\n",
       "      <td>Electronic City Phase II</td>\n",
       "      <td>2 BHK</td>\n",
       "      <td>1056</td>\n",
       "      <td>2.0</td>\n",
       "      <td>1.0</td>\n",
       "      <td>39.07</td>\n",
       "      <td>2</td>\n",
       "    </tr>\n",
       "    <tr>\n",
       "      <th>1</th>\n",
       "      <td>Plot  Area</td>\n",
       "      <td>Chikka Tirupathi</td>\n",
       "      <td>4 Bedroom</td>\n",
       "      <td>2600</td>\n",
       "      <td>5.0</td>\n",
       "      <td>3.0</td>\n",
       "      <td>120.00</td>\n",
       "      <td>4</td>\n",
       "    </tr>\n",
       "    <tr>\n",
       "      <th>2</th>\n",
       "      <td>Built-up  Area</td>\n",
       "      <td>Uttarahalli</td>\n",
       "      <td>3 BHK</td>\n",
       "      <td>1440</td>\n",
       "      <td>2.0</td>\n",
       "      <td>3.0</td>\n",
       "      <td>62.00</td>\n",
       "      <td>3</td>\n",
       "    </tr>\n",
       "    <tr>\n",
       "      <th>3</th>\n",
       "      <td>Super built-up  Area</td>\n",
       "      <td>Lingadheeranahalli</td>\n",
       "      <td>3 BHK</td>\n",
       "      <td>1521</td>\n",
       "      <td>3.0</td>\n",
       "      <td>1.0</td>\n",
       "      <td>95.00</td>\n",
       "      <td>3</td>\n",
       "    </tr>\n",
       "    <tr>\n",
       "      <th>4</th>\n",
       "      <td>Super built-up  Area</td>\n",
       "      <td>Kothanur</td>\n",
       "      <td>2 BHK</td>\n",
       "      <td>1200</td>\n",
       "      <td>2.0</td>\n",
       "      <td>1.0</td>\n",
       "      <td>51.00</td>\n",
       "      <td>2</td>\n",
       "    </tr>\n",
       "  </tbody>\n",
       "</table>\n",
       "</div>"
      ],
      "text/plain": [
       "              area_type                  location       size total_sqft  bath  \\\n",
       "0  Super built-up  Area  Electronic City Phase II      2 BHK       1056   2.0   \n",
       "1            Plot  Area          Chikka Tirupathi  4 Bedroom       2600   5.0   \n",
       "2        Built-up  Area               Uttarahalli      3 BHK       1440   2.0   \n",
       "3  Super built-up  Area        Lingadheeranahalli      3 BHK       1521   3.0   \n",
       "4  Super built-up  Area                  Kothanur      2 BHK       1200   2.0   \n",
       "\n",
       "   balcony   price  BHK  \n",
       "0      1.0   39.07    2  \n",
       "1      3.0  120.00    4  \n",
       "2      3.0   62.00    3  \n",
       "3      1.0   95.00    3  \n",
       "4      1.0   51.00    2  "
      ]
     },
     "execution_count": 12,
     "metadata": {},
     "output_type": "execute_result"
    }
   ],
   "source": [
    "df1.head()"
   ]
  },
  {
   "cell_type": "code",
   "execution_count": 13,
   "id": "984b4329-b9d0-4249-b154-0cd716e408d6",
   "metadata": {},
   "outputs": [
    {
     "data": {
      "text/plain": [
       "array([ 2,  4,  3,  1,  6,  8,  7,  5, 11,  9, 27, 43, 14, 12, 10, 13],\n",
       "      dtype=int64)"
      ]
     },
     "execution_count": 13,
     "metadata": {},
     "output_type": "execute_result"
    }
   ],
   "source": [
    "df1['BHK'].unique()"
   ]
  },
  {
   "cell_type": "code",
   "execution_count": 14,
   "id": "481801d9-5810-4595-8265-f0c19b906761",
   "metadata": {},
   "outputs": [],
   "source": [
    "df1 = df1.drop(columns=['size'])"
   ]
  },
  {
   "cell_type": "code",
   "execution_count": 15,
   "id": "21961440-0503-43ec-8085-0eaa237ab5c2",
   "metadata": {},
   "outputs": [
    {
     "data": {
      "text/plain": [
       "array(['1056', '2600', '1440', ..., '1133 - 1384', '774', '4689'],\n",
       "      dtype=object)"
      ]
     },
     "execution_count": 15,
     "metadata": {},
     "output_type": "execute_result"
    }
   ],
   "source": [
    "df1.total_sqft.unique()"
   ]
  },
  {
   "cell_type": "code",
   "execution_count": 17,
   "id": "f3278771-e575-44e8-9a9a-51c19edf81d5",
   "metadata": {},
   "outputs": [],
   "source": [
    "def is_float(x):\n",
    "    try:\n",
    "        float(x)\n",
    "    except:\n",
    "        return False\n",
    "    return True\n",
    "        "
   ]
  },
  {
   "cell_type": "code",
   "execution_count": 18,
   "id": "e33ab093-5cb9-4a54-b211-b80c190dceb5",
   "metadata": {},
   "outputs": [
    {
     "data": {
      "text/html": [
       "<div>\n",
       "<style scoped>\n",
       "    .dataframe tbody tr th:only-of-type {\n",
       "        vertical-align: middle;\n",
       "    }\n",
       "\n",
       "    .dataframe tbody tr th {\n",
       "        vertical-align: top;\n",
       "    }\n",
       "\n",
       "    .dataframe thead th {\n",
       "        text-align: right;\n",
       "    }\n",
       "</style>\n",
       "<table border=\"1\" class=\"dataframe\">\n",
       "  <thead>\n",
       "    <tr style=\"text-align: right;\">\n",
       "      <th></th>\n",
       "      <th>area_type</th>\n",
       "      <th>location</th>\n",
       "      <th>total_sqft</th>\n",
       "      <th>bath</th>\n",
       "      <th>balcony</th>\n",
       "      <th>price</th>\n",
       "      <th>BHK</th>\n",
       "    </tr>\n",
       "  </thead>\n",
       "  <tbody>\n",
       "    <tr>\n",
       "      <th>30</th>\n",
       "      <td>Super built-up  Area</td>\n",
       "      <td>Yelahanka</td>\n",
       "      <td>2100 - 2850</td>\n",
       "      <td>4.0</td>\n",
       "      <td>0.0</td>\n",
       "      <td>186.000</td>\n",
       "      <td>4</td>\n",
       "    </tr>\n",
       "    <tr>\n",
       "      <th>122</th>\n",
       "      <td>Super built-up  Area</td>\n",
       "      <td>Hebbal</td>\n",
       "      <td>3067 - 8156</td>\n",
       "      <td>4.0</td>\n",
       "      <td>0.0</td>\n",
       "      <td>477.000</td>\n",
       "      <td>4</td>\n",
       "    </tr>\n",
       "    <tr>\n",
       "      <th>137</th>\n",
       "      <td>Super built-up  Area</td>\n",
       "      <td>8th Phase JP Nagar</td>\n",
       "      <td>1042 - 1105</td>\n",
       "      <td>2.0</td>\n",
       "      <td>0.0</td>\n",
       "      <td>54.005</td>\n",
       "      <td>2</td>\n",
       "    </tr>\n",
       "    <tr>\n",
       "      <th>165</th>\n",
       "      <td>Super built-up  Area</td>\n",
       "      <td>Sarjapur</td>\n",
       "      <td>1145 - 1340</td>\n",
       "      <td>2.0</td>\n",
       "      <td>0.0</td>\n",
       "      <td>43.490</td>\n",
       "      <td>2</td>\n",
       "    </tr>\n",
       "    <tr>\n",
       "      <th>188</th>\n",
       "      <td>Super built-up  Area</td>\n",
       "      <td>KR Puram</td>\n",
       "      <td>1015 - 1540</td>\n",
       "      <td>2.0</td>\n",
       "      <td>0.0</td>\n",
       "      <td>56.800</td>\n",
       "      <td>2</td>\n",
       "    </tr>\n",
       "    <tr>\n",
       "      <th>410</th>\n",
       "      <td>Super built-up  Area</td>\n",
       "      <td>Kengeri</td>\n",
       "      <td>34.46Sq. Meter</td>\n",
       "      <td>1.0</td>\n",
       "      <td>0.0</td>\n",
       "      <td>18.500</td>\n",
       "      <td>1</td>\n",
       "    </tr>\n",
       "    <tr>\n",
       "      <th>549</th>\n",
       "      <td>Super built-up  Area</td>\n",
       "      <td>Hennur Road</td>\n",
       "      <td>1195 - 1440</td>\n",
       "      <td>2.0</td>\n",
       "      <td>0.0</td>\n",
       "      <td>63.770</td>\n",
       "      <td>2</td>\n",
       "    </tr>\n",
       "    <tr>\n",
       "      <th>661</th>\n",
       "      <td>Super built-up  Area</td>\n",
       "      <td>Yelahanka</td>\n",
       "      <td>1120 - 1145</td>\n",
       "      <td>2.0</td>\n",
       "      <td>0.0</td>\n",
       "      <td>48.130</td>\n",
       "      <td>2</td>\n",
       "    </tr>\n",
       "    <tr>\n",
       "      <th>672</th>\n",
       "      <td>Built-up  Area</td>\n",
       "      <td>Bettahalsoor</td>\n",
       "      <td>3090 - 5002</td>\n",
       "      <td>4.0</td>\n",
       "      <td>0.0</td>\n",
       "      <td>445.000</td>\n",
       "      <td>4</td>\n",
       "    </tr>\n",
       "    <tr>\n",
       "      <th>772</th>\n",
       "      <td>Super built-up  Area</td>\n",
       "      <td>Banashankari Stage VI</td>\n",
       "      <td>1160 - 1195</td>\n",
       "      <td>2.0</td>\n",
       "      <td>0.0</td>\n",
       "      <td>59.935</td>\n",
       "      <td>2</td>\n",
       "    </tr>\n",
       "  </tbody>\n",
       "</table>\n",
       "</div>"
      ],
      "text/plain": [
       "                area_type               location      total_sqft  bath  \\\n",
       "30   Super built-up  Area              Yelahanka     2100 - 2850   4.0   \n",
       "122  Super built-up  Area                 Hebbal     3067 - 8156   4.0   \n",
       "137  Super built-up  Area     8th Phase JP Nagar     1042 - 1105   2.0   \n",
       "165  Super built-up  Area               Sarjapur     1145 - 1340   2.0   \n",
       "188  Super built-up  Area               KR Puram     1015 - 1540   2.0   \n",
       "410  Super built-up  Area                Kengeri  34.46Sq. Meter   1.0   \n",
       "549  Super built-up  Area            Hennur Road     1195 - 1440   2.0   \n",
       "661  Super built-up  Area              Yelahanka     1120 - 1145   2.0   \n",
       "672        Built-up  Area           Bettahalsoor     3090 - 5002   4.0   \n",
       "772  Super built-up  Area  Banashankari Stage VI     1160 - 1195   2.0   \n",
       "\n",
       "     balcony    price  BHK  \n",
       "30       0.0  186.000    4  \n",
       "122      0.0  477.000    4  \n",
       "137      0.0   54.005    2  \n",
       "165      0.0   43.490    2  \n",
       "188      0.0   56.800    2  \n",
       "410      0.0   18.500    1  \n",
       "549      0.0   63.770    2  \n",
       "661      0.0   48.130    2  \n",
       "672      0.0  445.000    4  \n",
       "772      0.0   59.935    2  "
      ]
     },
     "execution_count": 18,
     "metadata": {},
     "output_type": "execute_result"
    }
   ],
   "source": [
    "df1[~df1['total_sqft'].apply(is_float)].head(10)"
   ]
  },
  {
   "cell_type": "code",
   "execution_count": 19,
   "id": "4f393ddc-1b08-4e27-b8c6-bd04f13fd533",
   "metadata": {},
   "outputs": [],
   "source": [
    "def convert_sqft_to_num(x):\n",
    "    tokens =  x.split('-')\n",
    "    if len(tokens) == 2:\n",
    "        return (float(tokens[0])+float(tokens[1]))/2\n",
    "    try:\n",
    "            return float(x)\n",
    "    except:\n",
    "        return None"
   ]
  },
  {
   "cell_type": "code",
   "execution_count": 20,
   "id": "5fb617bc-5c97-4853-a243-a657e39cb185",
   "metadata": {},
   "outputs": [
    {
     "data": {
      "text/plain": [
       "2166.0"
      ]
     },
     "execution_count": 20,
     "metadata": {},
     "output_type": "execute_result"
    }
   ],
   "source": [
    "convert_sqft_to_num('2166')"
   ]
  },
  {
   "cell_type": "code",
   "execution_count": 21,
   "id": "9a76a7d4-bed2-4f5f-80ed-829f39b6d853",
   "metadata": {},
   "outputs": [
    {
     "data": {
      "text/plain": [
       "2475.0"
      ]
     },
     "execution_count": 21,
     "metadata": {},
     "output_type": "execute_result"
    }
   ],
   "source": [
    "convert_sqft_to_num('2100 - 2850')"
   ]
  },
  {
   "cell_type": "code",
   "execution_count": 22,
   "id": "95c641a9-b22f-4eef-87a3-1f755b130908",
   "metadata": {},
   "outputs": [
    {
     "data": {
      "text/html": [
       "<div>\n",
       "<style scoped>\n",
       "    .dataframe tbody tr th:only-of-type {\n",
       "        vertical-align: middle;\n",
       "    }\n",
       "\n",
       "    .dataframe tbody tr th {\n",
       "        vertical-align: top;\n",
       "    }\n",
       "\n",
       "    .dataframe thead th {\n",
       "        text-align: right;\n",
       "    }\n",
       "</style>\n",
       "<table border=\"1\" class=\"dataframe\">\n",
       "  <thead>\n",
       "    <tr style=\"text-align: right;\">\n",
       "      <th></th>\n",
       "      <th>area_type</th>\n",
       "      <th>location</th>\n",
       "      <th>total_sqft</th>\n",
       "      <th>bath</th>\n",
       "      <th>balcony</th>\n",
       "      <th>price</th>\n",
       "      <th>BHK</th>\n",
       "    </tr>\n",
       "  </thead>\n",
       "  <tbody>\n",
       "    <tr>\n",
       "      <th>0</th>\n",
       "      <td>Super built-up  Area</td>\n",
       "      <td>Electronic City Phase II</td>\n",
       "      <td>1056.0</td>\n",
       "      <td>2.0</td>\n",
       "      <td>1.0</td>\n",
       "      <td>39.07</td>\n",
       "      <td>2</td>\n",
       "    </tr>\n",
       "    <tr>\n",
       "      <th>1</th>\n",
       "      <td>Plot  Area</td>\n",
       "      <td>Chikka Tirupathi</td>\n",
       "      <td>2600.0</td>\n",
       "      <td>5.0</td>\n",
       "      <td>3.0</td>\n",
       "      <td>120.00</td>\n",
       "      <td>4</td>\n",
       "    </tr>\n",
       "    <tr>\n",
       "      <th>2</th>\n",
       "      <td>Built-up  Area</td>\n",
       "      <td>Uttarahalli</td>\n",
       "      <td>1440.0</td>\n",
       "      <td>2.0</td>\n",
       "      <td>3.0</td>\n",
       "      <td>62.00</td>\n",
       "      <td>3</td>\n",
       "    </tr>\n",
       "  </tbody>\n",
       "</table>\n",
       "</div>"
      ],
      "text/plain": [
       "              area_type                  location  total_sqft  bath  balcony  \\\n",
       "0  Super built-up  Area  Electronic City Phase II      1056.0   2.0      1.0   \n",
       "1            Plot  Area          Chikka Tirupathi      2600.0   5.0      3.0   \n",
       "2        Built-up  Area               Uttarahalli      1440.0   2.0      3.0   \n",
       "\n",
       "    price  BHK  \n",
       "0   39.07    2  \n",
       "1  120.00    4  \n",
       "2   62.00    3  "
      ]
     },
     "execution_count": 22,
     "metadata": {},
     "output_type": "execute_result"
    }
   ],
   "source": [
    "df2 = df1.copy()\n",
    "df2['total_sqft'] = df2['total_sqft'].apply(convert_sqft_to_num)\n",
    "df2.head(3)"
   ]
  },
  {
   "cell_type": "code",
   "execution_count": 23,
   "id": "c56ffafa-a8a4-4fbf-95a5-dc8326292823",
   "metadata": {},
   "outputs": [
    {
     "name": "stdout",
     "output_type": "stream",
     "text": [
      "Percentage of missing values: 0.04720692368214005\n"
     ]
    }
   ],
   "source": [
    "# Count the total number of missing values\n",
    "total_missing_values = df2.isnull().sum().sum()\n",
    "\n",
    "# Calculate the total number of values\n",
    "total_values = df2.size\n",
    "\n",
    "# Calculate the percentage of missing values\n",
    "percentage_missing_values = (total_missing_values / total_values) * 100\n",
    "\n",
    "print(\"Percentage of missing values:\", percentage_missing_values)"
   ]
  },
  {
   "cell_type": "code",
   "execution_count": 24,
   "id": "95aa9338-9db9-4dc7-8855-190fa22d7c89",
   "metadata": {},
   "outputs": [
    {
     "name": "stdout",
     "output_type": "stream",
     "text": [
      "area_type      0\n",
      "location       0\n",
      "total_sqft    42\n",
      "bath           0\n",
      "balcony        0\n",
      "price          0\n",
      "BHK            0\n",
      "dtype: int64\n"
     ]
    }
   ],
   "source": [
    "missing_values = df2.isnull().sum()\n",
    "print(missing_values)"
   ]
  },
  {
   "cell_type": "code",
   "execution_count": 27,
   "id": "f3258d67-292c-40b4-82a8-5883067d136c",
   "metadata": {},
   "outputs": [
    {
     "name": "stdout",
     "output_type": "stream",
     "text": [
      "Original DataFrame:\n",
      "                  area_type                  location  total_sqft  bath  \\\n",
      "0      Super built-up  Area  Electronic City Phase II      1056.0   2.0   \n",
      "1                Plot  Area          Chikka Tirupathi      2600.0   5.0   \n",
      "2            Built-up  Area               Uttarahalli      1440.0   2.0   \n",
      "3      Super built-up  Area        Lingadheeranahalli      1521.0   3.0   \n",
      "4      Super built-up  Area                  Kothanur      1200.0   2.0   \n",
      "...                     ...                       ...         ...   ...   \n",
      "13314  Super built-up  Area         Green Glen Layout      1715.0   3.0   \n",
      "13315        Built-up  Area                Whitefield      3453.0   4.0   \n",
      "13317        Built-up  Area     Raja Rajeshwari Nagar      1141.0   2.0   \n",
      "13318  Super built-up  Area           Padmanabhanagar      4689.0   4.0   \n",
      "13319  Super built-up  Area              Doddathoguru       550.0   1.0   \n",
      "\n",
      "       balcony   price  BHK  \n",
      "0          1.0   39.07    2  \n",
      "1          3.0  120.00    4  \n",
      "2          3.0   62.00    3  \n",
      "3          1.0   95.00    3  \n",
      "4          1.0   51.00    2  \n",
      "...        ...     ...  ...  \n",
      "13314      3.0  112.00    3  \n",
      "13315      0.0  231.00    5  \n",
      "13317      1.0   60.00    2  \n",
      "13318      1.0  488.00    4  \n",
      "13319      1.0   17.00    1  \n",
      "\n",
      "[12668 rows x 7 columns]\n",
      "\n",
      "DataFrame after removing missing values:\n",
      "                  area_type                  location  total_sqft  bath  \\\n",
      "0      Super built-up  Area  Electronic City Phase II      1056.0   2.0   \n",
      "1                Plot  Area          Chikka Tirupathi      2600.0   5.0   \n",
      "2            Built-up  Area               Uttarahalli      1440.0   2.0   \n",
      "3      Super built-up  Area        Lingadheeranahalli      1521.0   3.0   \n",
      "4      Super built-up  Area                  Kothanur      1200.0   2.0   \n",
      "...                     ...                       ...         ...   ...   \n",
      "13314  Super built-up  Area         Green Glen Layout      1715.0   3.0   \n",
      "13315        Built-up  Area                Whitefield      3453.0   4.0   \n",
      "13317        Built-up  Area     Raja Rajeshwari Nagar      1141.0   2.0   \n",
      "13318  Super built-up  Area           Padmanabhanagar      4689.0   4.0   \n",
      "13319  Super built-up  Area              Doddathoguru       550.0   1.0   \n",
      "\n",
      "       balcony   price  BHK  \n",
      "0          1.0   39.07    2  \n",
      "1          3.0  120.00    4  \n",
      "2          3.0   62.00    3  \n",
      "3          1.0   95.00    3  \n",
      "4          1.0   51.00    2  \n",
      "...        ...     ...  ...  \n",
      "13314      3.0  112.00    3  \n",
      "13315      0.0  231.00    5  \n",
      "13317      1.0   60.00    2  \n",
      "13318      1.0  488.00    4  \n",
      "13319      1.0   17.00    1  \n",
      "\n",
      "[12668 rows x 7 columns]\n"
     ]
    }
   ],
   "source": [
    "# Remove rows with any missing values\n",
    "df2 = df2.dropna()\n",
    "\n",
    "print(\"Original DataFrame:\")\n",
    "print(df2)\n",
    "print(\"\\nDataFrame after removing missing values:\")\n",
    "print(df2)"
   ]
  },
  {
   "cell_type": "code",
   "execution_count": 28,
   "id": "bd894338-30c3-4f91-9ecb-f5bc50244013",
   "metadata": {},
   "outputs": [
    {
     "name": "stdout",
     "output_type": "stream",
     "text": [
      "area_type     0\n",
      "location      0\n",
      "total_sqft    0\n",
      "bath          0\n",
      "balcony       0\n",
      "price         0\n",
      "BHK           0\n",
      "dtype: int64\n"
     ]
    }
   ],
   "source": [
    "missing_values = df2.isnull().sum()\n",
    "print(missing_values)"
   ]
  },
  {
   "cell_type": "code",
   "execution_count": 31,
   "id": "2bd5a2ef-1946-4496-a4ed-406b9e83b3ee",
   "metadata": {},
   "outputs": [],
   "source": [
    "df2.location = df2.location.apply(lambda x:x.strip())\n",
    "\n",
    "location_stats = df2.groupby('location')['location'].agg('count').sort_values(ascending = False)\n"
   ]
  },
  {
   "cell_type": "code",
   "execution_count": 32,
   "id": "7bf8b27a-d852-4601-830f-9024bf97f949",
   "metadata": {},
   "outputs": [
    {
     "data": {
      "text/plain": [
       "1013"
      ]
     },
     "execution_count": 32,
     "metadata": {},
     "output_type": "execute_result"
    }
   ],
   "source": [
    "len(location_stats[location_stats<=10])"
   ]
  },
  {
   "cell_type": "code",
   "execution_count": 33,
   "id": "ae33a659-5754-47a1-9091-696724384c8b",
   "metadata": {},
   "outputs": [
    {
     "data": {
      "text/plain": [
       "location\n",
       "Nagappa Reddy Layout    10\n",
       "Thyagaraja Nagar        10\n",
       "Ganga Nagar             10\n",
       "Naganathapura           10\n",
       "Dairy Circle            10\n",
       "                        ..\n",
       "1 Giri Nagar             1\n",
       "Kanakapura  Rod          1\n",
       "Kanakapura Main Road     1\n",
       "Kanakapura Road          1\n",
       "whitefiled               1\n",
       "Name: location, Length: 1013, dtype: int64"
      ]
     },
     "execution_count": 33,
     "metadata": {},
     "output_type": "execute_result"
    }
   ],
   "source": [
    "location_stats_less_than_10 = location_stats[location_stats<=10]\n",
    "location_stats_less_than_10"
   ]
  },
  {
   "cell_type": "code",
   "execution_count": 35,
   "id": "39d91e1c-a681-4f42-9d7d-937cb05f80f7",
   "metadata": {},
   "outputs": [
    {
     "data": {
      "text/plain": [
       "1248"
      ]
     },
     "execution_count": 35,
     "metadata": {},
     "output_type": "execute_result"
    }
   ],
   "source": [
    "len(df2.location.unique())"
   ]
  },
  {
   "cell_type": "code",
   "execution_count": 36,
   "id": "d314ad2e-9222-4215-8937-fa5ba38f3044",
   "metadata": {},
   "outputs": [
    {
     "data": {
      "text/plain": [
       "236"
      ]
     },
     "execution_count": 36,
     "metadata": {},
     "output_type": "execute_result"
    }
   ],
   "source": [
    "df2.location = df2.location.apply(lambda x:'other' if x in location_stats_less_than_10 else x)\n",
    "len(df2.location.unique())"
   ]
  },
  {
   "cell_type": "code",
   "execution_count": 38,
   "id": "8b5852e7-7a82-4161-8a26-0504fc822606",
   "metadata": {},
   "outputs": [
    {
     "data": {
      "text/html": [
       "<div>\n",
       "<style scoped>\n",
       "    .dataframe tbody tr th:only-of-type {\n",
       "        vertical-align: middle;\n",
       "    }\n",
       "\n",
       "    .dataframe tbody tr th {\n",
       "        vertical-align: top;\n",
       "    }\n",
       "\n",
       "    .dataframe thead th {\n",
       "        text-align: right;\n",
       "    }\n",
       "</style>\n",
       "<table border=\"1\" class=\"dataframe\">\n",
       "  <thead>\n",
       "    <tr style=\"text-align: right;\">\n",
       "      <th></th>\n",
       "      <th>area_type</th>\n",
       "      <th>location</th>\n",
       "      <th>total_sqft</th>\n",
       "      <th>bath</th>\n",
       "      <th>balcony</th>\n",
       "      <th>price</th>\n",
       "      <th>BHK</th>\n",
       "    </tr>\n",
       "  </thead>\n",
       "  <tbody>\n",
       "    <tr>\n",
       "      <th>0</th>\n",
       "      <td>Super built-up  Area</td>\n",
       "      <td>Electronic City Phase II</td>\n",
       "      <td>1056.0</td>\n",
       "      <td>2.0</td>\n",
       "      <td>1.0</td>\n",
       "      <td>39.07</td>\n",
       "      <td>2</td>\n",
       "    </tr>\n",
       "    <tr>\n",
       "      <th>1</th>\n",
       "      <td>Plot  Area</td>\n",
       "      <td>Chikka Tirupathi</td>\n",
       "      <td>2600.0</td>\n",
       "      <td>5.0</td>\n",
       "      <td>3.0</td>\n",
       "      <td>120.00</td>\n",
       "      <td>4</td>\n",
       "    </tr>\n",
       "    <tr>\n",
       "      <th>2</th>\n",
       "      <td>Built-up  Area</td>\n",
       "      <td>Uttarahalli</td>\n",
       "      <td>1440.0</td>\n",
       "      <td>2.0</td>\n",
       "      <td>3.0</td>\n",
       "      <td>62.00</td>\n",
       "      <td>3</td>\n",
       "    </tr>\n",
       "    <tr>\n",
       "      <th>3</th>\n",
       "      <td>Super built-up  Area</td>\n",
       "      <td>Lingadheeranahalli</td>\n",
       "      <td>1521.0</td>\n",
       "      <td>3.0</td>\n",
       "      <td>1.0</td>\n",
       "      <td>95.00</td>\n",
       "      <td>3</td>\n",
       "    </tr>\n",
       "    <tr>\n",
       "      <th>4</th>\n",
       "      <td>Super built-up  Area</td>\n",
       "      <td>Kothanur</td>\n",
       "      <td>1200.0</td>\n",
       "      <td>2.0</td>\n",
       "      <td>1.0</td>\n",
       "      <td>51.00</td>\n",
       "      <td>2</td>\n",
       "    </tr>\n",
       "    <tr>\n",
       "      <th>5</th>\n",
       "      <td>Super built-up  Area</td>\n",
       "      <td>Whitefield</td>\n",
       "      <td>1170.0</td>\n",
       "      <td>2.0</td>\n",
       "      <td>1.0</td>\n",
       "      <td>38.00</td>\n",
       "      <td>2</td>\n",
       "    </tr>\n",
       "    <tr>\n",
       "      <th>8</th>\n",
       "      <td>Super built-up  Area</td>\n",
       "      <td>Marathahalli</td>\n",
       "      <td>1310.0</td>\n",
       "      <td>3.0</td>\n",
       "      <td>1.0</td>\n",
       "      <td>63.25</td>\n",
       "      <td>3</td>\n",
       "    </tr>\n",
       "    <tr>\n",
       "      <th>10</th>\n",
       "      <td>Super built-up  Area</td>\n",
       "      <td>Whitefield</td>\n",
       "      <td>1800.0</td>\n",
       "      <td>2.0</td>\n",
       "      <td>2.0</td>\n",
       "      <td>70.00</td>\n",
       "      <td>3</td>\n",
       "    </tr>\n",
       "    <tr>\n",
       "      <th>11</th>\n",
       "      <td>Plot  Area</td>\n",
       "      <td>Whitefield</td>\n",
       "      <td>2785.0</td>\n",
       "      <td>5.0</td>\n",
       "      <td>3.0</td>\n",
       "      <td>295.00</td>\n",
       "      <td>4</td>\n",
       "    </tr>\n",
       "    <tr>\n",
       "      <th>12</th>\n",
       "      <td>Super built-up  Area</td>\n",
       "      <td>7th Phase JP Nagar</td>\n",
       "      <td>1000.0</td>\n",
       "      <td>2.0</td>\n",
       "      <td>1.0</td>\n",
       "      <td>38.00</td>\n",
       "      <td>2</td>\n",
       "    </tr>\n",
       "  </tbody>\n",
       "</table>\n",
       "</div>"
      ],
      "text/plain": [
       "               area_type                  location  total_sqft  bath  balcony  \\\n",
       "0   Super built-up  Area  Electronic City Phase II      1056.0   2.0      1.0   \n",
       "1             Plot  Area          Chikka Tirupathi      2600.0   5.0      3.0   \n",
       "2         Built-up  Area               Uttarahalli      1440.0   2.0      3.0   \n",
       "3   Super built-up  Area        Lingadheeranahalli      1521.0   3.0      1.0   \n",
       "4   Super built-up  Area                  Kothanur      1200.0   2.0      1.0   \n",
       "5   Super built-up  Area                Whitefield      1170.0   2.0      1.0   \n",
       "8   Super built-up  Area              Marathahalli      1310.0   3.0      1.0   \n",
       "10  Super built-up  Area                Whitefield      1800.0   2.0      2.0   \n",
       "11            Plot  Area                Whitefield      2785.0   5.0      3.0   \n",
       "12  Super built-up  Area        7th Phase JP Nagar      1000.0   2.0      1.0   \n",
       "\n",
       "     price  BHK  \n",
       "0    39.07    2  \n",
       "1   120.00    4  \n",
       "2    62.00    3  \n",
       "3    95.00    3  \n",
       "4    51.00    2  \n",
       "5    38.00    2  \n",
       "8    63.25    3  \n",
       "10   70.00    3  \n",
       "11  295.00    4  \n",
       "12   38.00    2  "
      ]
     },
     "execution_count": 38,
     "metadata": {},
     "output_type": "execute_result"
    }
   ],
   "source": [
    "df2.head(10)"
   ]
  },
  {
   "cell_type": "code",
   "execution_count": 40,
   "id": "18015549-4d3f-4201-87a4-d8e7581f1e01",
   "metadata": {},
   "outputs": [
    {
     "data": {
      "text/plain": [
       "<seaborn.axisgrid.PairGrid at 0x1b025e3a410>"
      ]
     },
     "execution_count": 40,
     "metadata": {},
     "output_type": "execute_result"
    },
    {
     "data": {
      "image/png": "[encoded data removed]",
      "text/plain": [
       "<Figure size 1250x1250 with 30 Axes>"
      ]
     },
     "metadata": {},
     "output_type": "display_data"
    }
   ],
   "source": [
    "sns.pairplot(df2)"
   ]
  },
  {
   "cell_type": "code",
   "execution_count": 41,
   "id": "290ad947-b600-4d27-b9ea-97f0fa5c3c7e",
   "metadata": {},
   "outputs": [
    {
     "data": {
      "image/png": "[encoded data removed]",
      "text/plain": [
       "<Figure size 1000x800 with 2 Axes>"
      ]
     },
     "metadata": {},
     "output_type": "display_data"
    }
   ],
   "source": [
    "numeric_df = df2.select_dtypes(include='number')  # Select only numeric columns\n",
    "# Create a correlation matrix\n",
    "corr_matrix = numeric_df.corr()\n",
    "\n",
    "# Create a heatmap\n",
    "plt.figure(figsize=(10, 8))  # Set the size of the heatmap\n",
    "sns.heatmap(corr_matrix, annot=True, cmap='coolwarm', fmt=\".2f\")  # Annotate with correlation values, choose color map\n",
    "plt.title('Correlation Heatmap')  # Set the title\n",
    "plt.show()"
   ]
  },
  {
   "cell_type": "code",
   "execution_count": null,
   "id": "587e5900-0819-4794-95ba-580fcb1645c4",
   "metadata": {},
   "outputs": [],
   "source": []
  }
 ],
 "metadata": {
  "kernelspec": {
   "display_name": "Python 3 (ipykernel)",
   "language": "python",
   "name": "python3"
  },
  "language_info": {
   "codemirror_mode": {
    "name": "ipython",
    "version": 3
   },
   "file_extension": ".py",
   "mimetype": "text/x-python",
   "name": "python",
   "nbconvert_exporter": "python",
   "pygments_lexer": "ipython3",
   "version": "3.11.4"
  }
 },
 "nbformat": 4,
 "nbformat_minor": 5
}
