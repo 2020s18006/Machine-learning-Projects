{
 "cells": [
  {
   "cell_type": "code",
   "execution_count": 1,
   "id": "1cc49870",
   "metadata": {},
   "outputs": [],
   "source": [
    "import warnings\n",
    "warnings.filterwarnings(\"ignore\")"
   ]
  },
  {
   "cell_type": "code",
   "execution_count": 2,
   "id": "d8d39c4e",
   "metadata": {},
   "outputs": [],
   "source": [
    "import pandas as pd\n",
    "import numpy as np\n",
    "import matplotlib.pyplot as plt\n",
    "from scipy.stats import chi2"
   ]
  },
  {
   "cell_type": "code",
   "execution_count": 3,
   "id": "66fcba24",
   "metadata": {},
   "outputs": [],
   "source": [
    "crabdata = pd.read_csv(\"C:/Users/User/Documents/UNI/3rd year/semester 2/ML/Project 1/CrabAgePrediction.csv\")"
   ]
  },
  {
   "cell_type": "code",
   "execution_count": 4,
   "id": "20ef0fde",
   "metadata": {},
   "outputs": [
    {
     "data": {
      "text/html": [
       "<div>\n",
       "<style scoped>\n",
       "    .dataframe tbody tr th:only-of-type {\n",
       "        vertical-align: middle;\n",
       "    }\n",
       "\n",
       "    .dataframe tbody tr th {\n",
       "        vertical-align: top;\n",
       "    }\n",
       "\n",
       "    .dataframe thead th {\n",
       "        text-align: right;\n",
       "    }\n",
       "</style>\n",
       "<table border=\"1\" class=\"dataframe\">\n",
       "  <thead>\n",
       "    <tr style=\"text-align: right;\">\n",
       "      <th></th>\n",
       "      <th>Sex</th>\n",
       "      <th>Length</th>\n",
       "      <th>Diameter</th>\n",
       "      <th>Height</th>\n",
       "      <th>Weight</th>\n",
       "      <th>Shucked Weight</th>\n",
       "      <th>Viscera Weight</th>\n",
       "      <th>Shell Weight</th>\n",
       "      <th>Age</th>\n",
       "    </tr>\n",
       "  </thead>\n",
       "  <tbody>\n",
       "    <tr>\n",
       "      <th>0</th>\n",
       "      <td>F</td>\n",
       "      <td>1.4375</td>\n",
       "      <td>1.1750</td>\n",
       "      <td>0.4125</td>\n",
       "      <td>24.635715</td>\n",
       "      <td>12.332033</td>\n",
       "      <td>5.584852</td>\n",
       "      <td>6.747181</td>\n",
       "      <td>9</td>\n",
       "    </tr>\n",
       "    <tr>\n",
       "      <th>1</th>\n",
       "      <td>M</td>\n",
       "      <td>0.8875</td>\n",
       "      <td>0.6500</td>\n",
       "      <td>0.2125</td>\n",
       "      <td>5.400580</td>\n",
       "      <td>2.296310</td>\n",
       "      <td>1.374951</td>\n",
       "      <td>1.559222</td>\n",
       "      <td>6</td>\n",
       "    </tr>\n",
       "    <tr>\n",
       "      <th>2</th>\n",
       "      <td>I</td>\n",
       "      <td>1.0375</td>\n",
       "      <td>0.7750</td>\n",
       "      <td>0.2500</td>\n",
       "      <td>7.952035</td>\n",
       "      <td>3.231843</td>\n",
       "      <td>1.601747</td>\n",
       "      <td>2.764076</td>\n",
       "      <td>6</td>\n",
       "    </tr>\n",
       "    <tr>\n",
       "      <th>3</th>\n",
       "      <td>F</td>\n",
       "      <td>1.1750</td>\n",
       "      <td>0.8875</td>\n",
       "      <td>0.2500</td>\n",
       "      <td>13.480187</td>\n",
       "      <td>4.748541</td>\n",
       "      <td>2.282135</td>\n",
       "      <td>5.244657</td>\n",
       "      <td>10</td>\n",
       "    </tr>\n",
       "    <tr>\n",
       "      <th>4</th>\n",
       "      <td>I</td>\n",
       "      <td>0.8875</td>\n",
       "      <td>0.6625</td>\n",
       "      <td>0.2125</td>\n",
       "      <td>6.903103</td>\n",
       "      <td>3.458639</td>\n",
       "      <td>1.488349</td>\n",
       "      <td>1.700970</td>\n",
       "      <td>6</td>\n",
       "    </tr>\n",
       "  </tbody>\n",
       "</table>\n",
       "</div>"
      ],
      "text/plain": [
       "  Sex  Length  Diameter  Height     Weight  Shucked Weight  Viscera Weight  \\\n",
       "0   F  1.4375    1.1750  0.4125  24.635715       12.332033        5.584852   \n",
       "1   M  0.8875    0.6500  0.2125   5.400580        2.296310        1.374951   \n",
       "2   I  1.0375    0.7750  0.2500   7.952035        3.231843        1.601747   \n",
       "3   F  1.1750    0.8875  0.2500  13.480187        4.748541        2.282135   \n",
       "4   I  0.8875    0.6625  0.2125   6.903103        3.458639        1.488349   \n",
       "\n",
       "   Shell Weight  Age  \n",
       "0      6.747181    9  \n",
       "1      1.559222    6  \n",
       "2      2.764076    6  \n",
       "3      5.244657   10  \n",
       "4      1.700970    6  "
      ]
     },
     "execution_count": 4,
     "metadata": {},
     "output_type": "execute_result"
    }
   ],
   "source": [
    "crabdata.head()"
   ]
  },
  {
   "cell_type": "code",
   "execution_count": 5,
   "id": "b8dac1e5",
   "metadata": {},
   "outputs": [
    {
     "name": "stdout",
     "output_type": "stream",
     "text": [
      "<class 'pandas.core.frame.DataFrame'>\n",
      "RangeIndex: 3893 entries, 0 to 3892\n",
      "Data columns (total 9 columns):\n",
      " #   Column          Non-Null Count  Dtype  \n",
      "---  ------          --------------  -----  \n",
      " 0   Sex             3893 non-null   object \n",
      " 1   Length          3893 non-null   float64\n",
      " 2   Diameter        3893 non-null   float64\n",
      " 3   Height          3893 non-null   float64\n",
      " 4   Weight          3893 non-null   float64\n",
      " 5   Shucked Weight  3893 non-null   float64\n",
      " 6   Viscera Weight  3893 non-null   float64\n",
      " 7   Shell Weight    3893 non-null   float64\n",
      " 8   Age             3893 non-null   int64  \n",
      "dtypes: float64(7), int64(1), object(1)\n",
      "memory usage: 273.9+ KB\n"
     ]
    }
   ],
   "source": [
    "crabdata.info()"
   ]
  },
  {
   "cell_type": "code",
   "execution_count": 6,
   "id": "4c9acf69",
   "metadata": {},
   "outputs": [],
   "source": [
    "#remove height=0\n",
    "crabdata = crabdata[crabdata['Height'] > 0]"
   ]
  },
  {
   "cell_type": "code",
   "execution_count": 7,
   "id": "06e08d6e",
   "metadata": {},
   "outputs": [
    {
     "name": "stdout",
     "output_type": "stream",
     "text": [
      "<class 'pandas.core.frame.DataFrame'>\n",
      "Index: 3891 entries, 0 to 3892\n",
      "Data columns (total 9 columns):\n",
      " #   Column          Non-Null Count  Dtype  \n",
      "---  ------          --------------  -----  \n",
      " 0   Sex             3891 non-null   object \n",
      " 1   Length          3891 non-null   float64\n",
      " 2   Diameter        3891 non-null   float64\n",
      " 3   Height          3891 non-null   float64\n",
      " 4   Weight          3891 non-null   float64\n",
      " 5   Shucked Weight  3891 non-null   float64\n",
      " 6   Viscera Weight  3891 non-null   float64\n",
      " 7   Shell Weight    3891 non-null   float64\n",
      " 8   Age             3891 non-null   int64  \n",
      "dtypes: float64(7), int64(1), object(1)\n",
      "memory usage: 304.0+ KB\n"
     ]
    }
   ],
   "source": [
    "crabdata.info()"
   ]
  },
  {
   "cell_type": "code",
   "execution_count": 8,
   "id": "3bbd9f28",
   "metadata": {},
   "outputs": [
    {
     "name": "stdout",
     "output_type": "stream",
     "text": [
      "             Sex  Length  Diameter  Height     Weight  Shucked Weight  \\\n",
      "0         Female  1.4375    1.1750  0.4125  24.635715       12.332033   \n",
      "1           Male  0.8875    0.6500  0.2125   5.400580        2.296310   \n",
      "2  Indeterminate  1.0375    0.7750  0.2500   7.952035        3.231843   \n",
      "3         Female  1.1750    0.8875  0.2500  13.480187        4.748541   \n",
      "4  Indeterminate  0.8875    0.6625  0.2125   6.903103        3.458639   \n",
      "\n",
      "   Viscera Weight  Shell Weight  Age  \n",
      "0        5.584852      6.747181    9  \n",
      "1        1.374951      1.559222    6  \n",
      "2        1.601747      2.764076    6  \n",
      "3        2.282135      5.244657   10  \n",
      "4        1.488349      1.700970    6  \n",
      "<class 'pandas.core.frame.DataFrame'>\n",
      "Index: 3891 entries, 0 to 3892\n",
      "Data columns (total 9 columns):\n",
      " #   Column          Non-Null Count  Dtype  \n",
      "---  ------          --------------  -----  \n",
      " 0   Sex             3891 non-null   object \n",
      " 1   Length          3891 non-null   float64\n",
      " 2   Diameter        3891 non-null   float64\n",
      " 3   Height          3891 non-null   float64\n",
      " 4   Weight          3891 non-null   float64\n",
      " 5   Shucked Weight  3891 non-null   float64\n",
      " 6   Viscera Weight  3891 non-null   float64\n",
      " 7   Shell Weight    3891 non-null   float64\n",
      " 8   Age             3891 non-null   int64  \n",
      "dtypes: float64(7), int64(1), object(1)\n",
      "memory usage: 304.0+ KB\n"
     ]
    }
   ],
   "source": [
    "# Factorize the 'Sex' column\n",
    "crabdata['Sex'] = pd.factorize(crabdata['Sex'])[0]\n",
    "\n",
    "# If you want to change the numerical encoding to specific labels:\n",
    "sex_labels = {0: 'Female', 1: 'Male', 2: 'Indeterminate'}  # Define the labels\n",
    "crabdata['Sex'] = crabdata['Sex'].map(sex_labels)\n",
    "\n",
    "# Show the first few rows of the DataFrame to verify the changes\n",
    "print(crabdata.head())\n",
    "crabdata.info()"
   ]
  },
  {
   "cell_type": "code",
   "execution_count": 9,
   "id": "1f58a376",
   "metadata": {},
   "outputs": [],
   "source": [
    "#data on different scales. so we standardize\n",
    "from sklearn.preprocessing import StandardScaler\n",
    "#split data to features and label by making a copy of each\n",
    "X=crabdata[[\"Sex\",\"Length\",\"Diameter\",\"Height\",\"Weight\",\"Shucked Weight\", \"Viscera Weight\",\"Shell Weight\"]].copy()\n",
    "Y=crabdata[\"Age\"].copy()"
   ]
  },
  {
   "cell_type": "code",
   "execution_count": 10,
   "id": "3d728c7a",
   "metadata": {},
   "outputs": [
    {
     "data": {
      "text/html": [
       "<div>\n",
       "<style scoped>\n",
       "    .dataframe tbody tr th:only-of-type {\n",
       "        vertical-align: middle;\n",
       "    }\n",
       "\n",
       "    .dataframe tbody tr th {\n",
       "        vertical-align: top;\n",
       "    }\n",
       "\n",
       "    .dataframe thead th {\n",
       "        text-align: right;\n",
       "    }\n",
       "</style>\n",
       "<table border=\"1\" class=\"dataframe\">\n",
       "  <thead>\n",
       "    <tr style=\"text-align: right;\">\n",
       "      <th></th>\n",
       "      <th>Sex</th>\n",
       "      <th>Length</th>\n",
       "      <th>Diameter</th>\n",
       "      <th>Height</th>\n",
       "      <th>Weight</th>\n",
       "      <th>Shucked Weight</th>\n",
       "      <th>Viscera Weight</th>\n",
       "      <th>Shell Weight</th>\n",
       "    </tr>\n",
       "  </thead>\n",
       "  <tbody>\n",
       "    <tr>\n",
       "      <th>0</th>\n",
       "      <td>Female</td>\n",
       "      <td>1.4375</td>\n",
       "      <td>1.1750</td>\n",
       "      <td>0.4125</td>\n",
       "      <td>24.635715</td>\n",
       "      <td>12.332033</td>\n",
       "      <td>5.584852</td>\n",
       "      <td>6.747181</td>\n",
       "    </tr>\n",
       "    <tr>\n",
       "      <th>1</th>\n",
       "      <td>Male</td>\n",
       "      <td>0.8875</td>\n",
       "      <td>0.6500</td>\n",
       "      <td>0.2125</td>\n",
       "      <td>5.400580</td>\n",
       "      <td>2.296310</td>\n",
       "      <td>1.374951</td>\n",
       "      <td>1.559222</td>\n",
       "    </tr>\n",
       "    <tr>\n",
       "      <th>2</th>\n",
       "      <td>Indeterminate</td>\n",
       "      <td>1.0375</td>\n",
       "      <td>0.7750</td>\n",
       "      <td>0.2500</td>\n",
       "      <td>7.952035</td>\n",
       "      <td>3.231843</td>\n",
       "      <td>1.601747</td>\n",
       "      <td>2.764076</td>\n",
       "    </tr>\n",
       "    <tr>\n",
       "      <th>3</th>\n",
       "      <td>Female</td>\n",
       "      <td>1.1750</td>\n",
       "      <td>0.8875</td>\n",
       "      <td>0.2500</td>\n",
       "      <td>13.480187</td>\n",
       "      <td>4.748541</td>\n",
       "      <td>2.282135</td>\n",
       "      <td>5.244657</td>\n",
       "    </tr>\n",
       "    <tr>\n",
       "      <th>4</th>\n",
       "      <td>Indeterminate</td>\n",
       "      <td>0.8875</td>\n",
       "      <td>0.6625</td>\n",
       "      <td>0.2125</td>\n",
       "      <td>6.903103</td>\n",
       "      <td>3.458639</td>\n",
       "      <td>1.488349</td>\n",
       "      <td>1.700970</td>\n",
       "    </tr>\n",
       "  </tbody>\n",
       "</table>\n",
       "</div>"
      ],
      "text/plain": [
       "             Sex  Length  Diameter  Height     Weight  Shucked Weight  \\\n",
       "0         Female  1.4375    1.1750  0.4125  24.635715       12.332033   \n",
       "1           Male  0.8875    0.6500  0.2125   5.400580        2.296310   \n",
       "2  Indeterminate  1.0375    0.7750  0.2500   7.952035        3.231843   \n",
       "3         Female  1.1750    0.8875  0.2500  13.480187        4.748541   \n",
       "4  Indeterminate  0.8875    0.6625  0.2125   6.903103        3.458639   \n",
       "\n",
       "   Viscera Weight  Shell Weight  \n",
       "0        5.584852      6.747181  \n",
       "1        1.374951      1.559222  \n",
       "2        1.601747      2.764076  \n",
       "3        2.282135      5.244657  \n",
       "4        1.488349      1.700970  "
      ]
     },
     "execution_count": 10,
     "metadata": {},
     "output_type": "execute_result"
    }
   ],
   "source": [
    "X.head()"
   ]
  },
  {
   "cell_type": "code",
   "execution_count": 11,
   "id": "64646528",
   "metadata": {},
   "outputs": [
    {
     "name": "stdout",
     "output_type": "stream",
     "text": [
      "[[ 0.41953843  0.62039253  0.60126404 ...  1.          0.\n",
      "   0.        ]\n",
      " [-1.41179319 -1.49529346 -1.3091317  ...  0.          0.\n",
      "   1.        ]\n",
      " [-0.91233911 -0.9915587  -0.9509325  ...  0.          1.\n",
      "   0.        ]\n",
      " ...\n",
      " [-2.28583783 -2.25089561 -1.78673064 ...  0.          1.\n",
      "   0.        ]\n",
      " [-0.82909676 -0.9915587  -0.83153277 ...  0.          1.\n",
      "   0.        ]\n",
      " [-1.74476257 -1.64641389 -1.3091317  ...  0.          1.\n",
      "   0.        ]]\n"
     ]
    }
   ],
   "source": [
    "from sklearn.preprocessing import StandardScaler, OneHotEncoder\n",
    "from sklearn.compose import ColumnTransformer\n",
    "from sklearn.pipeline import Pipeline\n",
    "\n",
    "categorical_cols = [\"Sex\"]\n",
    "numerical_cols = [\"Length\", \"Diameter\", \"Height\", \"Weight\", \"Shucked Weight\", \"Viscera Weight\", \"Shell Weight\"]\n",
    "\n",
    "# Define preprocessing steps\n",
    "preprocessor = ColumnTransformer(\n",
    "    transformers=[\n",
    "        ('num', StandardScaler(), numerical_cols),\n",
    "        ('cat', OneHotEncoder(), categorical_cols)\n",
    "    ])\n",
    "\n",
    "# Define the pipeline\n",
    "pipeline = Pipeline(steps=[('preprocessor', preprocessor)])\n",
    "\n",
    "# Fit and transform the data\n",
    "X_processed = pipeline.fit_transform(X)\n",
    "print(X_processed)"
   ]
  },
  {
   "cell_type": "code",
   "execution_count": 12,
   "id": "e66612f9",
   "metadata": {},
   "outputs": [],
   "source": [
    "from sklearn.model_selection import train_test_split\n",
    "\n",
    "# Split the data into training and testing sets \n",
    "X_train_scaled, X_test_scaled, Y_train, Y_test = train_test_split(X_processed, Y, \n",
    "                                                    train_size=0.8, \n",
    "                                                    random_state=123)"
   ]
  },
  {
   "cell_type": "code",
   "execution_count": 13,
   "id": "d7544a30",
   "metadata": {},
   "outputs": [
    {
     "name": "stdout",
     "output_type": "stream",
     "text": [
      "Indices of outliers detected by LOF: [  21   23   33   43   53   68   71  102  135  137  139  145  154  169\n",
      "  174  180  184  185  204  257  269  273  280  288  295  300  301  307\n",
      "  311  319  321  323  334  347  350  378  394  405  410  426  444  464\n",
      "  478  511  519  520  530  533  545  548  556  580  587  609  617  624\n",
      "  630  632  634  640  647  651  665  667  672  688  689  694  698  699\n",
      "  700  704  709  717  719  740  744  751  755  756  759  764  767  769\n",
      "  776  779  799  826  854  859  866  877  878  880  881  905  913  941\n",
      "  946  964  967  973  992  994 1027 1034 1037 1038 1039 1044 1053 1060\n",
      " 1067 1083 1088 1100 1117 1120 1122 1133 1149 1152 1159 1166 1177 1182\n",
      " 1186 1193 1226 1239 1248 1274 1279 1313 1369 1370 1392 1394 1398 1399\n",
      " 1407 1419 1421 1432 1438 1446 1451 1456 1457 1480 1482 1489 1495 1498\n",
      " 1512 1513 1528 1531 1539 1551 1554 1602 1607 1610 1617 1634 1643 1645\n",
      " 1647 1649 1659 1664 1667 1671 1727 1740 1741 1756 1771 1792 1795 1809\n",
      " 1842 1849 1864 1867 1878 1881 1886 1907 1914 1937 1938 1978 1983 2004\n",
      " 2014 2020 2022 2030 2036 2047 2072 2074 2095 2102 2107 2108 2130 2143\n",
      " 2145 2149 2173 2197 2213 2220 2256 2268 2277 2282 2290 2291 2307 2311\n",
      " 2313 2320 2324 2337 2344 2345 2380 2383 2388 2397 2403 2416 2422 2423\n",
      " 2440 2450 2461 2465 2466 2475 2480 2491 2505 2510 2511 2513 2514 2516\n",
      " 2517 2537 2539 2541 2546 2572 2587 2596 2598 2599 2600 2601 2613 2621\n",
      " 2635 2642 2652 2657 2658 2659 2668 2686 2701 2711 2722 2727 2728 2731\n",
      " 2745 2761 2773 2774 2790 2806 2815 2821 2826 2858 2880 2884 2927 2944\n",
      " 2945 2950 2952 2979 2985 2986 2988 3003 3021 3027 3028 3029 3030 3048\n",
      " 3049 3052 3067 3081]\n",
      "Number of outliers detected by LOF: 312\n"
     ]
    }
   ],
   "source": [
    "from sklearn.neighbors import LocalOutlierFactor\n",
    "# Outlier detection using Local Outlier Factor (LOF)\n",
    "lof_model = LocalOutlierFactor(n_neighbors=20, contamination=0.1)  # Adjust parameters as needed\n",
    "lof_outliers = lof_model.fit_predict(X_train_scaled)\n",
    "lof_outliers_indices = np.where(lof_outliers == -1)[0]\n",
    "\n",
    "# Print indices of outliers detected by LOF\n",
    "print(\"Indices of outliers detected by LOF:\", lof_outliers_indices)\n",
    "\n",
    "# Count the number of outliers detected by LOF\n",
    "num_outliers = len(lof_outliers_indices)\n",
    "print(\"Number of outliers detected by LOF:\", num_outliers)"
   ]
  },
  {
   "cell_type": "code",
   "execution_count": 14,
   "id": "714f5580",
   "metadata": {},
   "outputs": [],
   "source": [
    "# Remove 312 outliers from X_train_scaled\n",
    "X_train_scaled_cleaned = np.delete(X_train_scaled, lof_outliers_indices, axis=0)\n",
    "\n",
    "# Adjust Y_train if needed\n",
    "Y_train_cleaned = np.delete(Y_train, lof_outliers_indices, axis=0)"
   ]
  },
  {
   "cell_type": "code",
   "execution_count": 15,
   "id": "4167bba8",
   "metadata": {},
   "outputs": [
    {
     "name": "stdout",
     "output_type": "stream",
     "text": [
      "SVR MSE: 4.309870958729348\n",
      "Ridge MSE: 4.39340859869163\n",
      "Lasso MSE: 7.098287308386888\n",
      "XGBoost MSE: 0.4679154369016192\n"
     ]
    }
   ],
   "source": [
    "from sklearn.svm import SVR\n",
    "from sklearn.linear_model import Ridge, Lasso\n",
    "from xgboost import XGBRegressor\n",
    "from sklearn.metrics import mean_squared_error\n",
    "\n",
    "# Instantiate SVR\n",
    "svr_model = SVR()\n",
    "\n",
    "# Fit SVR to the cleaned training data\n",
    "svr_model.fit(X_train_scaled_cleaned, Y_train_cleaned)\n",
    "\n",
    "# Instantiate Ridge Regression\n",
    "ridge_model = Ridge()\n",
    "\n",
    "# Fit Ridge Regression to the cleaned training data\n",
    "ridge_model.fit(X_train_scaled_cleaned, Y_train_cleaned)\n",
    "\n",
    "# Instantiate Lasso Regression\n",
    "lasso_model = Lasso()\n",
    "\n",
    "# Fit Lasso Regression to the cleaned training data\n",
    "lasso_model.fit(X_train_scaled_cleaned, Y_train_cleaned)\n",
    "\n",
    "# Instantiate XGBoost\n",
    "xgb_model = XGBRegressor()\n",
    "\n",
    "# Fit XGBoost to the cleaned training data\n",
    "xgb_model.fit(X_train_scaled_cleaned, Y_train_cleaned)\n",
    "\n",
    "# Evaluate the models\n",
    "# Example: Calculate mean squared error (MSE)\n",
    "svr_predictions = svr_model.predict(X_train_scaled_cleaned)\n",
    "svr_mse = mean_squared_error(Y_train_cleaned, svr_predictions)\n",
    "\n",
    "ridge_predictions = ridge_model.predict(X_train_scaled_cleaned)\n",
    "ridge_mse = mean_squared_error(Y_train_cleaned, ridge_predictions)\n",
    "\n",
    "lasso_predictions = lasso_model.predict(X_train_scaled_cleaned)\n",
    "lasso_mse = mean_squared_error(Y_train_cleaned, lasso_predictions)\n",
    "\n",
    "xgb_predictions = xgb_model.predict(X_train_scaled_cleaned)\n",
    "xgb_mse = mean_squared_error(Y_train_cleaned, xgb_predictions)\n",
    "\n",
    "print(\"SVR MSE:\", svr_mse)\n",
    "print(\"Ridge MSE:\", ridge_mse)\n",
    "print(\"Lasso MSE:\", lasso_mse)\n",
    "print(\"XGBoost MSE:\", xgb_mse)"
   ]
  },
  {
   "cell_type": "code",
   "execution_count": 17,
   "id": "fed43c37",
   "metadata": {},
   "outputs": [
    {
     "data": {
      "image/png": "[encoded data removed]",
      "text/plain": [
       "<Figure size 640x480 with 1 Axes>"
      ]
     },
     "metadata": {},
     "output_type": "display_data"
    }
   ],
   "source": [
    "#PLS\n",
    "from sklearn.cross_decomposition import PLSRegression\n",
    "from sklearn.model_selection import cross_val_score\n",
    "\n",
    "# Define PLS Regression with varying number of components\n",
    "pls_model_cv = PLSRegression()\n",
    "\n",
    "# Perform k-fold cross-validation with different number of components\n",
    "components_range = range(1, 11)  # Try different numbers of components\n",
    "cv_scores = []\n",
    "for n_components in components_range:\n",
    "    pls_model_cv.n_components = n_components\n",
    "    scores = cross_val_score(pls_model_cv, X_train_scaled_cleaned, Y_train_cleaned, cv=5, scoring='r2')\n",
    "    cv_scores.append(scores.mean())\n",
    "\n",
    "# Plot the cross-validation scores\n",
    "plt.plot(components_range, cv_scores)\n",
    "plt.xlabel('Number of Components')\n",
    "plt.ylabel('Cross-Validation R-squared (R2) Score')\n",
    "plt.title('Cross-Validation R-squared (R2) Score vs. Number of Components')\n",
    "plt.grid(True)\n",
    "plt.show()"
   ]
  },
  {
   "cell_type": "code",
   "execution_count": 16,
   "id": "f6a441a9",
   "metadata": {},
   "outputs": [
    {
     "name": "stdout",
     "output_type": "stream",
     "text": [
      "PLS Regression MSE: 4.735789313182253\n",
      "PLS Regression R-squared (R2) score: 0.49580012948164576\n"
     ]
    }
   ],
   "source": [
    "from sklearn.metrics import mean_squared_error, r2_score\n",
    "\n",
    "# Instantiate PLS Regression\n",
    "pls_model = PLSRegression(n_components=3) \n",
    "\n",
    "# Fit PLS Regression to the cleaned training data\n",
    "pls_model.fit(X_train_scaled_cleaned, Y_train_cleaned)\n",
    "\n",
    "# Predict on the cleaned training data\n",
    "pls_predictions = pls_model.predict(X_train_scaled_cleaned)\n",
    "\n",
    "# Evaluate the model\n",
    "pls_mse = mean_squared_error(Y_train_cleaned, pls_predictions)\n",
    "pls_r2 = r2_score(Y_train_cleaned, pls_predictions)\n",
    "\n",
    "print(\"PLS Regression MSE:\", pls_mse)\n",
    "print(\"PLS Regression R-squared (R2) score:\", pls_r2)"
   ]
  }
 ],
 "metadata": {
  "kernelspec": {
   "display_name": "Python 3 (ipykernel)",
   "language": "python",
   "name": "python3"
  },
  "language_info": {
   "codemirror_mode": {
    "name": "ipython",
    "version": 3
   },
   "file_extension": ".py",
   "mimetype": "text/x-python",
   "name": "python",
   "nbconvert_exporter": "python",
   "pygments_lexer": "ipython3",
   "version": "3.11.4"
  }
 },
 "nbformat": 4,
 "nbformat_minor": 5
}
